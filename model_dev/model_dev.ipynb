{
 "cells": [
  {
   "cell_type": "markdown",
   "id": "a4005217-757a-4931-ad04-4bbfa4a99537",
   "metadata": {},
   "source": [
    "# Watch Price Valuator"
   ]
  },
  {
   "cell_type": "markdown",
   "id": "de539b16-c721-44cf-b343-9232dd0beeea",
   "metadata": {},
   "source": [
    "## Imports"
   ]
  },
  {
   "cell_type": "code",
   "execution_count": null,
   "id": "f0396483-5d0f-4c7d-918f-a56e4fe2e30e",
   "metadata": {},
   "outputs": [],
   "source": [
    "import re\n",
    "\n",
    "import numpy as np\n",
    "import pandas as pd\n",
    "import matplotlib.pyplot as plt\n",
    "import matplotlib as mpl\n",
    "import seaborn as sns\n",
    "\n",
    "from sklearn.model_selection import train_test_split, cross_val_score, KFold\n",
    "from sklearn.preprocessing import OneHotEncoder\n",
    "\n",
    "import tensorflow as tf\n",
    "from tensorflow.keras.preprocessing.text import Tokenizer\n",
    "from tensorflow.keras.layers import Embedding\n",
    "from tensorflow.keras.callbacks import EarlyStopping\n",
    "\n",
    "from sklearn.linear_model import LinearRegression, Ridge, Lasso\n",
    "from sklearn.tree import DecisionTreeRegressor\n",
    "from sklearn.ensemble import RandomForestRegressor\n",
    "from xgboost import XGBRegressor\n",
    "from lightgbm import LGBMRegressor\n",
    "from lightgbm import early_stopping\n",
    "from lightgbm import log_evaluation\n",
    "\n",
    "import optuna\n",
    "import optuna.integration.lightgbm as lgb_tuner\n",
    "\n",
    "\n",
    "%matplotlib inline\n",
    "plt.style.use('seaborn')\n",
    "mpl.rcParams['figure.figsize'] = (12, 6)\n",
    "plt.rc('axes', titlesize=22) \n",
    "plt.rc('figure', titlesize=22)\n",
    "plt.rc('legend', fontsize=14)\n",
    "plt.rc('xtick', labelsize=14)\n",
    "plt.rc('ytick', labelsize=14)\n",
    "plt.rc('axes', labelsize=14)"
   ]
  },
  {
   "cell_type": "markdown",
   "id": "7b6307c5-087b-451d-9621-fdcd769300b5",
   "metadata": {},
   "source": [
    "## Data"
   ]
  },
  {
   "cell_type": "markdown",
   "id": "b533e005-efa8-4770-9d04-9e1e73ce1457",
   "metadata": {},
   "source": [
    "### Extract"
   ]
  },
  {
   "cell_type": "code",
   "execution_count": null,
   "id": "856a6556-2037-4120-bbea-fe84ca519460",
   "metadata": {},
   "outputs": [],
   "source": [
    "sqlite_file_name = \"../scraper/database.db\"\n",
    "sqlite_url = f\"sqlite:///{sqlite_file_name}\""
   ]
  },
  {
   "cell_type": "code",
   "execution_count": null,
   "id": "5f27d49c-ba6e-4679-9439-cf8830759432",
   "metadata": {
    "tags": []
   },
   "outputs": [],
   "source": [
    "df_original = pd.read_sql_table('watch', sqlite_url)"
   ]
  },
  {
   "cell_type": "code",
   "execution_count": null,
   "id": "50771b7e-5fa2-4227-aae2-28e843b94afb",
   "metadata": {},
   "outputs": [],
   "source": [
    "df = df_original.copy()"
   ]
  },
  {
   "cell_type": "markdown",
   "id": "cc312443-d297-4c61-a71a-5d060d84e33c",
   "metadata": {},
   "source": [
    "### Transform"
   ]
  },
  {
   "cell_type": "code",
   "execution_count": null,
   "id": "d9f90543",
   "metadata": {
    "collapsed": false,
    "jupyter": {
     "outputs_hidden": false
    },
    "pycharm": {
     "name": "#%%\n"
    }
   },
   "outputs": [],
   "source": [
    "df.columns"
   ]
  },
  {
   "cell_type": "code",
   "execution_count": null,
   "id": "e3eb9fce-6750-4fa0-9a1b-9be6f56cf4bc",
   "metadata": {},
   "outputs": [],
   "source": [
    "df.drop(['id', 'model_num', 'model_id', 'product_url', 'image_url', 'image_filename'], axis=1, inplace=True)"
   ]
  },
  {
   "cell_type": "code",
   "execution_count": null,
   "id": "c870c929",
   "metadata": {
    "collapsed": false,
    "jupyter": {
     "outputs_hidden": false
    },
    "pycharm": {
     "name": "#%%\n"
    }
   },
   "outputs": [],
   "source": [
    "df.dtypes"
   ]
  },
  {
   "cell_type": "code",
   "execution_count": null,
   "id": "a7ed1c93",
   "metadata": {
    "collapsed": false,
    "jupyter": {
     "outputs_hidden": false
    },
    "pycharm": {
     "name": "#%%\n"
    }
   },
   "outputs": [],
   "source": [
    "df = df.astype({\n",
    "    'brand': 'category',\n",
    "    'series': 'category',\n",
    "    # 'model_num': 'category'\n",
    "})"
   ]
  },
  {
   "cell_type": "code",
   "execution_count": null,
   "id": "57aecbe6-b443-4cf2-93ba-bdfc8a58f488",
   "metadata": {},
   "outputs": [],
   "source": [
    "df.shape"
   ]
  },
  {
   "cell_type": "code",
   "execution_count": null,
   "id": "0a83475f-f4d8-4b4f-840b-e32e1f02de05",
   "metadata": {},
   "outputs": [],
   "source": [
    "df.head()"
   ]
  },
  {
   "cell_type": "code",
   "execution_count": null,
   "id": "06756f7d-e41e-4565-84e9-a10f93b09808",
   "metadata": {},
   "outputs": [],
   "source": [
    "X, y = df.drop('price', axis=1), df['price']"
   ]
  },
  {
   "cell_type": "code",
   "execution_count": null,
   "id": "f9fdff88-bdc6-4908-a15b-343fea43a5b1",
   "metadata": {},
   "outputs": [],
   "source": [
    "X_train, X_test, y_train, y_test = train_test_split(\n",
    "    X, y, test_size=0.10, random_state=42)"
   ]
  },
  {
   "cell_type": "markdown",
   "id": "97c2c717-3503-4650-99f7-d0a3e09b6574",
   "metadata": {},
   "source": [
    "### Inspect"
   ]
  },
  {
   "cell_type": "code",
   "execution_count": null,
   "id": "ae9d62d7-803c-4296-8b26-83a232674a05",
   "metadata": {},
   "outputs": [],
   "source": [
    "sns.heatmap(df.isnull(), yticklabels=False, cbar=False, cmap='viridis')\n",
    "plt.show()"
   ]
  },
  {
   "cell_type": "code",
   "execution_count": null,
   "id": "f4c6cc00-02aa-4f03-a845-1c43b8b77442",
   "metadata": {},
   "outputs": [],
   "source": [
    "for col in ['brand', 'series']:#, 'model_num']:\n",
    "    X_train[col].value_counts()[:30].plot(kind='bar')\n",
    "    plt.title(col)\n",
    "    plt.show()"
   ]
  },
  {
   "cell_type": "code",
   "execution_count": null,
   "id": "fa905b26-2852-4933-80f3-d868e0fb9f93",
   "metadata": {},
   "outputs": [],
   "source": [
    "sns.histplot(data=X_train, x='year')\n",
    "plt.title('year')\n",
    "plt.show()"
   ]
  },
  {
   "cell_type": "code",
   "execution_count": null,
   "id": "c3f5f4e0-d9bb-42e1-a701-52def2045e40",
   "metadata": {},
   "outputs": [],
   "source": [
    "X_train['box'].value_counts().plot(kind='bar')\n",
    "plt.title('box')\n",
    "plt.show()"
   ]
  },
  {
   "cell_type": "code",
   "execution_count": null,
   "id": "7796d889-fa7b-4799-a7e4-92dae50cbf88",
   "metadata": {},
   "outputs": [],
   "source": [
    "X_train['papers'].value_counts().plot(kind='bar')\n",
    "plt.title('papers')\n",
    "plt.show()"
   ]
  },
  {
   "cell_type": "code",
   "execution_count": null,
   "id": "fd1c0e4b-74fa-4cc1-b4be-38fdd5c11e7a",
   "metadata": {},
   "outputs": [],
   "source": [
    "sns.histplot(y_train)\n",
    "plt.title('price')\n",
    "plt.show()"
   ]
  },
  {
   "cell_type": "code",
   "execution_count": null,
   "id": "1276d6b7-d820-49fb-959f-b0575798bb22",
   "metadata": {},
   "outputs": [],
   "source": [
    "sns.histplot(np.log(y_train))\n",
    "plt.title('log price')\n",
    "plt.show()"
   ]
  },
  {
   "cell_type": "markdown",
   "id": "60ef9dc0-fbc3-43b4-a466-8e6f48bdacf4",
   "metadata": {},
   "source": [
    "### Feature Encoding"
   ]
  },
  {
   "cell_type": "code",
   "execution_count": null,
   "id": "1444bc1c",
   "metadata": {
    "collapsed": false,
    "jupyter": {
     "outputs_hidden": false
    },
    "pycharm": {
     "name": "#%%\n"
    }
   },
   "outputs": [],
   "source": [
    "X_train_ = X_train.copy()\n",
    "X_test_ = X_test.copy()"
   ]
  },
  {
   "cell_type": "code",
   "execution_count": null,
   "id": "1daf123a",
   "metadata": {
    "collapsed": false,
    "jupyter": {
     "outputs_hidden": false
    },
    "pycharm": {
     "name": "#%%\n"
    }
   },
   "outputs": [],
   "source": [
    "ohe_cols = ['brand', 'series']"
   ]
  },
  {
   "cell_type": "code",
   "execution_count": null,
   "id": "78020a3f",
   "metadata": {
    "collapsed": false,
    "jupyter": {
     "outputs_hidden": false
    },
    "pycharm": {
     "name": "#%%\n"
    }
   },
   "outputs": [],
   "source": [
    "ohe = OneHotEncoder()\n",
    "ohe.fit(X[ohe_cols])"
   ]
  },
  {
   "cell_type": "code",
   "execution_count": null,
   "id": "864698f3",
   "metadata": {
    "collapsed": false,
    "jupyter": {
     "outputs_hidden": false
    },
    "pycharm": {
     "name": "#%%\n"
    }
   },
   "outputs": [],
   "source": [
    "X_train_.reset_index(inplace=True)"
   ]
  },
  {
   "cell_type": "code",
   "execution_count": null,
   "id": "5bc3db6b",
   "metadata": {
    "collapsed": false,
    "jupyter": {
     "outputs_hidden": false
    },
    "pycharm": {
     "name": "#%%\n"
    }
   },
   "outputs": [],
   "source": [
    "X_train_ohe = pd.DataFrame(ohe.transform(X_train_[ohe_cols]).toarray(), columns=ohe.get_feature_names())"
   ]
  },
  {
   "cell_type": "code",
   "execution_count": null,
   "id": "27a5491b",
   "metadata": {
    "collapsed": false,
    "jupyter": {
     "outputs_hidden": false
    },
    "pycharm": {
     "name": "#%%\n"
    }
   },
   "outputs": [],
   "source": [
    "X_train_ = X_train_.drop(ohe_cols, axis=1).join(X_train_ohe)"
   ]
  },
  {
   "cell_type": "code",
   "execution_count": null,
   "id": "388aa3bf-69fe-4737-861b-45fb783e25d6",
   "metadata": {},
   "outputs": [],
   "source": [
    "X_train_['box'] = X_train_['box'].map({True: 1, False: 0})"
   ]
  },
  {
   "cell_type": "code",
   "execution_count": null,
   "id": "8a44d359-57d7-49db-b28e-1bb4ff4e2a09",
   "metadata": {},
   "outputs": [],
   "source": [
    "X_train_['papers'] = X_train_['papers'].map({True: 1, False: 0})"
   ]
  },
  {
   "cell_type": "code",
   "execution_count": null,
   "id": "53a6d454",
   "metadata": {
    "collapsed": false,
    "jupyter": {
     "outputs_hidden": false
    },
    "pycharm": {
     "name": "#%%\n"
    }
   },
   "outputs": [],
   "source": [
    "X_test_.reset_index(inplace=True)\n",
    "X_test_ohe = pd.DataFrame(ohe.transform(X_test_[ohe_cols]).toarray(), columns=ohe.get_feature_names())\n",
    "X_test_ = X_test_.drop(ohe_cols, axis=1).join(X_test_ohe)\n",
    "X_test_['box'] = X_test_['box'].map({True: 1, False: 0})\n",
    "X_test_['papers'] = X_test_['papers'].map({True: 1, False: 0})"
   ]
  },
  {
   "cell_type": "code",
   "execution_count": null,
   "id": "29dda097",
   "metadata": {
    "collapsed": false,
    "jupyter": {
     "outputs_hidden": false
    },
    "pycharm": {
     "name": "#%%\n"
    }
   },
   "outputs": [],
   "source": [
    "-cross_val_score(LinearRegression(), X_train_, y_train, cv=5, scoring='neg_root_mean_squared_error').mean()"
   ]
  },
  {
   "cell_type": "code",
   "execution_count": null,
   "id": "454506d7",
   "metadata": {
    "collapsed": false,
    "jupyter": {
     "outputs_hidden": false
    },
    "pycharm": {
     "name": "#%%\n"
    }
   },
   "outputs": [],
   "source": [
    "-cross_val_score(Lasso(), X_train_, y_train, cv=5, scoring='neg_root_mean_squared_error').mean()"
   ]
  },
  {
   "cell_type": "code",
   "execution_count": null,
   "id": "12c785d5",
   "metadata": {
    "collapsed": false,
    "jupyter": {
     "outputs_hidden": false
    },
    "pycharm": {
     "name": "#%%\n"
    }
   },
   "outputs": [],
   "source": [
    "-cross_val_score(Ridge(), X_train_, y_train, cv=5, scoring='neg_root_mean_squared_error').mean()"
   ]
  },
  {
   "cell_type": "code",
   "execution_count": null,
   "id": "64fa113d",
   "metadata": {
    "collapsed": false,
    "jupyter": {
     "outputs_hidden": false
    },
    "pycharm": {
     "name": "#%%\n"
    }
   },
   "outputs": [],
   "source": [
    "-cross_val_score(DecisionTreeRegressor(), X_train_, y_train, cv=5, scoring='neg_root_mean_squared_error').mean()"
   ]
  },
  {
   "cell_type": "code",
   "execution_count": null,
   "id": "091b8ae5",
   "metadata": {
    "collapsed": false,
    "jupyter": {
     "outputs_hidden": false
    },
    "pycharm": {
     "name": "#%%\n"
    }
   },
   "outputs": [],
   "source": [
    "-cross_val_score(RandomForestRegressor(), X_train_, y_train, cv=5, scoring='neg_root_mean_squared_error').mean()"
   ]
  },
  {
   "cell_type": "code",
   "execution_count": null,
   "id": "ab7bc99d",
   "metadata": {
    "collapsed": false,
    "jupyter": {
     "outputs_hidden": false
    },
    "pycharm": {
     "name": "#%%\n"
    }
   },
   "outputs": [],
   "source": [
    "-cross_val_score(XGBRegressor(), X_train_, y_train, cv=5, scoring='neg_root_mean_squared_error').mean()"
   ]
  },
  {
   "cell_type": "code",
   "execution_count": null,
   "id": "4455a505",
   "metadata": {
    "collapsed": false,
    "jupyter": {
     "outputs_hidden": false
    },
    "pycharm": {
     "name": "#%%\n"
    }
   },
   "outputs": [],
   "source": [
    "-cross_val_score(LGBMRegressor(), X_train_, y_train, cv=5, scoring='neg_root_mean_squared_error').mean()"
   ]
  },
  {
   "cell_type": "markdown",
   "id": "8d9dc638",
   "metadata": {
    "pycharm": {
     "name": "#%% md\n"
    }
   },
   "source": [
    "### Embeddings"
   ]
  },
  {
   "cell_type": "code",
   "execution_count": null,
   "id": "a7850d91",
   "metadata": {
    "collapsed": false,
    "jupyter": {
     "outputs_hidden": false
    },
    "pycharm": {
     "name": "#%%\n"
    }
   },
   "outputs": [],
   "source": [
    "X_train_ = X_train.copy()\n",
    "X_test_ = X_test.copy()"
   ]
  },
  {
   "cell_type": "code",
   "execution_count": null,
   "id": "ba17d8b2",
   "metadata": {
    "collapsed": false,
    "jupyter": {
     "outputs_hidden": false
    },
    "pycharm": {
     "name": "#%%\n"
    }
   },
   "outputs": [],
   "source": [
    "X_train_['box'] = X_train_['box'].map({True: 1, False: 0})\n",
    "X_train_['papers'] = X_train_['papers'].map({True: 1, False: 0})"
   ]
  },
  {
   "cell_type": "code",
   "execution_count": null,
   "id": "90c21098",
   "metadata": {
    "collapsed": false,
    "jupyter": {
     "outputs_hidden": false
    },
    "pycharm": {
     "name": "#%%\n"
    }
   },
   "outputs": [],
   "source": [
    "def rm_spaces(feature):\n",
    "    return re.sub(r'[^0-9a-zA-Z]', '', feature)"
   ]
  },
  {
   "cell_type": "code",
   "execution_count": null,
   "id": "bef0c046",
   "metadata": {
    "collapsed": false,
    "jupyter": {
     "outputs_hidden": false
    },
    "pycharm": {
     "name": "#%%\n"
    }
   },
   "outputs": [],
   "source": [
    "brand_tokenizer = Tokenizer(oov_token=\"<OOV>\")\n",
    "brand_tokenizer.fit_on_texts(X['brand'].apply(lambda x: rm_spaces(x)))\n",
    "brand_tokenizer.word_index"
   ]
  },
  {
   "cell_type": "code",
   "execution_count": null,
   "id": "ef8e2114",
   "metadata": {
    "collapsed": false,
    "jupyter": {
     "outputs_hidden": false
    },
    "pycharm": {
     "name": "#%%\n"
    }
   },
   "outputs": [],
   "source": [
    "series_tokenizer = Tokenizer(oov_token=\"<OOV>\")\n",
    "series_tokenizer.fit_on_texts(X['series'].apply(lambda x: rm_spaces(x)))\n",
    "series_tokenizer.word_index"
   ]
  },
  {
   "cell_type": "code",
   "execution_count": null,
   "id": "81abaae5",
   "metadata": {
    "collapsed": false,
    "jupyter": {
     "outputs_hidden": false
    },
    "pycharm": {
     "name": "#%%\n"
    }
   },
   "outputs": [],
   "source": [
    "X_train.reset_index()"
   ]
  },
  {
   "cell_type": "code",
   "execution_count": null,
   "id": "700a6e0e",
   "metadata": {
    "collapsed": false,
    "jupyter": {
     "outputs_hidden": false
    },
    "pycharm": {
     "name": "#%%\n"
    }
   },
   "outputs": [],
   "source": [
    "brand_train_labels = brand_tokenizer.texts_to_sequences(X_train['brand'].apply(lambda x: rm_spaces(x)))\n",
    "brand_test_labels = brand_tokenizer.texts_to_sequences(X_test['brand'].apply(lambda x: rm_spaces(x)))\n",
    "\n",
    "series_train_labels = series_tokenizer.texts_to_sequences(X_train['series'].apply(lambda x: rm_spaces(x)))\n",
    "series_test_labels = series_tokenizer.texts_to_sequences(X_test['series'].apply(lambda x: rm_spaces(x)))"
   ]
  },
  {
   "cell_type": "code",
   "execution_count": null,
   "id": "14dfcc75",
   "metadata": {
    "collapsed": false,
    "jupyter": {
     "outputs_hidden": false
    },
    "pycharm": {
     "name": "#%%\n"
    }
   },
   "outputs": [],
   "source": [
    "brand_train_labels = tf.squeeze(tf.constant(brand_train_labels))\n",
    "brand_test_labels = tf.squeeze(tf.constant(brand_test_labels))\n",
    "\n",
    "series_train_labels = tf.squeeze(tf.constant(series_train_labels))\n",
    "series_test_labels = tf.squeeze(tf.constant(series_test_labels))"
   ]
  },
  {
   "cell_type": "code",
   "execution_count": null,
   "id": "a8dff0da",
   "metadata": {
    "collapsed": false,
    "jupyter": {
     "outputs_hidden": false
    },
    "pycharm": {
     "name": "#%%\n"
    }
   },
   "outputs": [],
   "source": [
    "num_brand = len(brand_tokenizer.word_index)\n",
    "num_series = len(series_tokenizer.word_index)"
   ]
  },
  {
   "cell_type": "code",
   "execution_count": null,
   "id": "b0ccee70",
   "metadata": {
    "collapsed": false,
    "jupyter": {
     "outputs_hidden": false
    },
    "pycharm": {
     "name": "#%%\n"
    }
   },
   "outputs": [],
   "source": [
    "num_brand"
   ]
  },
  {
   "cell_type": "code",
   "execution_count": null,
   "id": "c9619cde",
   "metadata": {
    "collapsed": false,
    "jupyter": {
     "outputs_hidden": false
    },
    "pycharm": {
     "name": "#%%\n"
    }
   },
   "outputs": [],
   "source": [
    "num_series"
   ]
  },
  {
   "cell_type": "code",
   "execution_count": null,
   "id": "583148a9",
   "metadata": {
    "collapsed": false,
    "jupyter": {
     "outputs_hidden": false
    },
    "pycharm": {
     "name": "#%%\n"
    }
   },
   "outputs": [],
   "source": [
    "num_brand**0.25"
   ]
  },
  {
   "cell_type": "code",
   "execution_count": null,
   "id": "360dd12b",
   "metadata": {
    "collapsed": false,
    "jupyter": {
     "outputs_hidden": false
    },
    "pycharm": {
     "name": "#%%\n"
    }
   },
   "outputs": [],
   "source": [
    "num_series**0.25"
   ]
  },
  {
   "cell_type": "code",
   "execution_count": null,
   "id": "3a5c7a47",
   "metadata": {
    "collapsed": false,
    "jupyter": {
     "outputs_hidden": false
    },
    "pycharm": {
     "name": "#%%\n"
    }
   },
   "outputs": [],
   "source": [
    "early_stopping_keras = EarlyStopping(patience=30, restore_best_weights=True)"
   ]
  },
  {
   "cell_type": "code",
   "execution_count": null,
   "id": "114544a0",
   "metadata": {
    "collapsed": false,
    "jupyter": {
     "outputs_hidden": false
    },
    "pycharm": {
     "name": "#%%\n"
    }
   },
   "outputs": [],
   "source": [
    "brand_dim = 5\n",
    "series_dim = 15\n",
    "\n",
    "\n",
    "## Create the layers\n",
    "# First input\n",
    "input_brand = tf.keras.layers.Input(shape=(1,))\n",
    "# Second input\n",
    "input_series = tf.keras.layers.Input(shape=(1,))\n",
    "# First embedding layer\n",
    "embedding_brand = Embedding(input_dim=num_brand+1, output_dim=brand_dim,\n",
    "                           name='embedding_brand')(input_brand)\n",
    "# Second embedding layer\n",
    "embedding_series = Embedding(input_dim=num_series+1, output_dim=series_dim,\n",
    "                            name='embedding_series')(input_series)\n",
    "# Concatenate the output of both embedding layers\n",
    "concat = tf.keras.layers.Concatenate()([embedding_brand, embedding_series])\n",
    "\n",
    "#\n",
    "# concat = tf.keras.layers.Dense(12)(concat)\n",
    "\n",
    "# A single neuron out with no activation function as this is a regression problem\n",
    "output = tf.keras.layers.Dense(1)(concat)\n",
    "\n",
    "# Create the model and feed it the layers to expect as inputs and outputs\n",
    "model = tf.keras.Model(inputs=[input_brand, input_series],\n",
    "                       outputs=output)\n",
    "# Compile the model, with MSE as a loss function and Adam for the optimizer\n",
    "model.compile(loss='mean_squared_error',\n",
    "              optimizer=tf.keras.optimizers.Adam(lr=3e-4),\n",
    "              metrics=[tf.keras.metrics.RootMeanSquaredError()])\n",
    "# Fit the model!\n",
    "history = model.fit((brand_train_labels, series_train_labels), y_train.to_numpy(),\n",
    "                    validation_data=((brand_test_labels, series_test_labels),\n",
    "                                     y_test.to_numpy()), epochs=3000, callbacks=[early_stopping_keras], verbose=2)\n",
    "# List of performance histories\n",
    "# histories.append(history)"
   ]
  },
  {
   "cell_type": "code",
   "execution_count": null,
   "id": "f4f6b925",
   "metadata": {
    "collapsed": false,
    "jupyter": {
     "outputs_hidden": false
    },
    "pycharm": {
     "name": "#%%\n"
    }
   },
   "outputs": [],
   "source": [
    "# Save the model after that hard work\n",
    "model.save('trained_embedding_model.h5')"
   ]
  },
  {
   "cell_type": "code",
   "execution_count": null,
   "id": "12d757af",
   "metadata": {
    "collapsed": false,
    "jupyter": {
     "outputs_hidden": false
    },
    "pycharm": {
     "name": "#%%\n"
    }
   },
   "outputs": [],
   "source": [
    "# summarize history for accuracy\n",
    "plt.plot(history.history['root_mean_squared_error'])\n",
    "plt.plot(history.history['val_root_mean_squared_error'])\n",
    "plt.title('model root_mean_squared_error')\n",
    "plt.ylabel('root_mean_squared_error')\n",
    "plt.xlabel('epoch')\n",
    "plt.legend(['train', 'test'], loc='best')\n",
    "plt.show()\n",
    "# summarize history for loss\n",
    "plt.plot(history.history['loss'])\n",
    "plt.plot(history.history['val_loss'])\n",
    "plt.title('model loss')\n",
    "plt.ylabel('loss')\n",
    "plt.xlabel('epoch')\n",
    "plt.legend(['train', 'test'], loc='best')\n",
    "plt.show()"
   ]
  },
  {
   "cell_type": "code",
   "execution_count": null,
   "id": "9a85656a",
   "metadata": {
    "collapsed": false,
    "jupyter": {
     "outputs_hidden": false
    },
    "pycharm": {
     "name": "#%%\n"
    }
   },
   "outputs": [],
   "source": []
  },
  {
   "cell_type": "code",
   "execution_count": null,
   "id": "65445f6f",
   "metadata": {
    "collapsed": false,
    "jupyter": {
     "outputs_hidden": false
    },
    "pycharm": {
     "name": "#%%\n"
    }
   },
   "outputs": [],
   "source": [
    "# Grab each embedding layer from the previous model\n",
    "embedding_layer_brand = model.get_layer('embedding_brand')\n",
    "# Ensure that the layer's parameters cannot be changed anymore!\n",
    "embedding_layer_brand.trainable = False\n",
    "\n",
    "embedding_layer_series = model.get_layer('embedding_series')\n",
    "embedding_layer_series.trainable = False"
   ]
  },
  {
   "cell_type": "code",
   "execution_count": null,
   "id": "40dd1822",
   "metadata": {
    "collapsed": false,
    "jupyter": {
     "outputs_hidden": false
    },
    "pycharm": {
     "name": "#%%\n"
    }
   },
   "outputs": [],
   "source": [
    "# Create 2 new 'models', which recieve the sequences and matrix multiplies with\n",
    "# the embedding layers to generate n and m features per sample,\n",
    "# for brand and series respectively\n",
    "\n",
    "# Sequential model\n",
    "    feature_generator_brand = tf.keras.models.Sequential([\n",
    "        # Input layer to establish the array shape to expect. This layer is also not trainable\n",
    "        tf.keras.layers.InputLayer(input_shape=[1,]),\n",
    "        # The learned embedding layer!\n",
    "        embedding_layer_brand\n",
    "    ])\n",
    "    # Same for second model\n",
    "    feature_generator_series = tf.keras.models.Sequential([\n",
    "        tf.keras.layers.InputLayer(input_shape=[1,]),\n",
    "        embedding_layer_series\n",
    "    ])"
   ]
  },
  {
   "cell_type": "code",
   "execution_count": null,
   "id": "b5933a37",
   "metadata": {
    "collapsed": false,
    "jupyter": {
     "outputs_hidden": false
    },
    "pycharm": {
     "name": "#%%\n"
    }
   },
   "outputs": [],
   "source": [
    "embedding_layer_brand.output_shape[2]"
   ]
  },
  {
   "cell_type": "code",
   "execution_count": null,
   "id": "f74b1889",
   "metadata": {
    "collapsed": false,
    "jupyter": {
     "outputs_hidden": false
    },
    "pycharm": {
     "name": "#%%\n"
    }
   },
   "outputs": [],
   "source": [
    "# Use the model's fit method to create the new features\n",
    "brand_array = feature_generator_brand.predict(brand_train_labels)\n",
    "print(brand_array.shape)\n",
    "# Remove inner dimension, to go from 3D to 2D\n",
    "brand_array = np.squeeze(brand_array, axis=1)\n",
    "print(brand_array.shape)"
   ]
  },
  {
   "cell_type": "code",
   "execution_count": null,
   "id": "49ea9826",
   "metadata": {
    "collapsed": false,
    "jupyter": {
     "outputs_hidden": false
    },
    "pycharm": {
     "name": "#%%\n"
    }
   },
   "outputs": [],
   "source": [
    "# Use the model's fit method to create the new features\n",
    "series_array = feature_generator_series.predict(series_train_labels)\n",
    "print(series_array.shape)\n",
    "# Remove inner dimension, to go from 3D to 2D\n",
    "series_array = np.squeeze(series_array, axis=1)\n",
    "print(series_array.shape)"
   ]
  },
  {
   "cell_type": "code",
   "execution_count": null,
   "id": "b57d9736",
   "metadata": {
    "collapsed": false,
    "jupyter": {
     "outputs_hidden": false
    },
    "pycharm": {
     "name": "#%%\n"
    }
   },
   "outputs": [],
   "source": [
    "features_array = np.concatenate((brand_array, series_array), axis=1)"
   ]
  },
  {
   "cell_type": "code",
   "execution_count": null,
   "id": "c230d0f7",
   "metadata": {
    "collapsed": false,
    "jupyter": {
     "outputs_hidden": false
    },
    "pycharm": {
     "name": "#%%\n"
    }
   },
   "outputs": [],
   "source": [
    "embedding_cols = [\"brand_embedding_\" + str(i+1) for i in range(brand_dim)] + [\"series_embedding_\" + str(i+1) for i in range(series_dim)]"
   ]
  },
  {
   "cell_type": "code",
   "execution_count": null,
   "id": "050056e9",
   "metadata": {
    "collapsed": false,
    "jupyter": {
     "outputs_hidden": false
    },
    "pycharm": {
     "name": "#%%\n"
    }
   },
   "outputs": [],
   "source": [
    "embedding_df = pd.DataFrame(features_array, columns=embedding_cols)"
   ]
  },
  {
   "cell_type": "code",
   "execution_count": null,
   "id": "6e6dae26",
   "metadata": {
    "collapsed": false,
    "jupyter": {
     "outputs_hidden": false
    },
    "pycharm": {
     "name": "#%%\n"
    }
   },
   "outputs": [],
   "source": []
  },
  {
   "cell_type": "code",
   "execution_count": null,
   "id": "8b12659b",
   "metadata": {
    "collapsed": false,
    "jupyter": {
     "outputs_hidden": false
    },
    "pycharm": {
     "name": "#%%\n"
    }
   },
   "outputs": [],
   "source": [
    "brand_train_labels = brand_tokenizer.texts_to_sequences(X['brand'].apply(lambda x: rm_spaces(x)))"
   ]
  },
  {
   "cell_type": "code",
   "execution_count": null,
   "id": "fb339b2b",
   "metadata": {
    "collapsed": false,
    "jupyter": {
     "outputs_hidden": false
    },
    "pycharm": {
     "name": "#%%\n"
    }
   },
   "outputs": [],
   "source": []
  },
  {
   "cell_type": "code",
   "execution_count": null,
   "id": "9e4a3827-eddb-4f06-935a-4c553a74fed2",
   "metadata": {},
   "outputs": [],
   "source": []
  },
  {
   "cell_type": "code",
   "execution_count": null,
   "id": "63c6028f-5cec-4cff-810a-7b35d86291d0",
   "metadata": {},
   "outputs": [],
   "source": []
  },
  {
   "cell_type": "code",
   "execution_count": null,
   "id": "369644ff-999d-4b6a-9e2e-4be415f7325a",
   "metadata": {},
   "outputs": [],
   "source": [
    "def engineer_features(X: pd.DataFrame) -> pd.DataFrame:\n",
    "    X_copy = X.copy()\n",
    "    X_copy['box'] = X_copy['box'].map({True: 1, False: 0})\n",
    "    X_copy['papers'] = X_copy['papers'].map({True: 1, False: 0})\n",
    "\n",
    "    brand_labels = brand_tokenizer.texts_to_sequences(X['brand'].apply(lambda x: rm_spaces(x)))\n",
    "    brand_labels = tf.squeeze(tf.constant(brand_labels))\n",
    "    series_labels = series_tokenizer.texts_to_sequences(X['series'].apply(lambda x: rm_spaces(x)))\n",
    "    series_labels = tf.squeeze(tf.constant(series_labels))\n",
    "\n",
    "    brand_array = feature_generator_brand.predict(brand_labels)\n",
    "    brand_array = np.squeeze(brand_array, axis=1)\n",
    "    series_array = feature_generator_series.predict(series_labels)\n",
    "    series_array = np.squeeze(series_array, axis=1)\n",
    "    features_array = np.concatenate((brand_array, series_array), axis=1)\n",
    "\n",
    "    embedding_cols = [\"brand_embedding_\" + str(i+1) for i in range(brand_dim)] + [\"series_embedding_\" + str(i+1) for i in range(series_dim)]\n",
    "    embedding_df = pd.DataFrame(features_array, columns=embedding_cols)\n",
    "\n",
    "    X_copy = X_copy.join(embedding_df)\n",
    "    X_copy.drop(['brand', 'series'], axis=1, inplace=True)\n",
    "\n",
    "    return X_copy"
   ]
  },
  {
   "cell_type": "code",
   "execution_count": null,
   "id": "4ffe704b-4fe2-402c-8db8-c100d5c86597",
   "metadata": {},
   "outputs": [],
   "source": [
    "engineer_features(X)"
   ]
  },
  {
   "cell_type": "code",
   "execution_count": null,
   "id": "f46aa2f5-5610-4431-8172-dd9dba6acf3a",
   "metadata": {},
   "outputs": [],
   "source": [
    "X_train__, X_test__, y_train, y_test = train_test_split(\n",
    "    engineer_features(X), y, test_size=0.10, random_state=42)"
   ]
  },
  {
   "cell_type": "code",
   "execution_count": null,
   "id": "095c2635",
   "metadata": {
    "collapsed": false,
    "jupyter": {
     "outputs_hidden": false
    },
    "pycharm": {
     "name": "#%%\n"
    }
   },
   "outputs": [],
   "source": [
    "X_train__"
   ]
  },
  {
   "cell_type": "code",
   "execution_count": null,
   "id": "645db271",
   "metadata": {
    "collapsed": false,
    "jupyter": {
     "outputs_hidden": false
    },
    "pycharm": {
     "name": "#%%\n"
    }
   },
   "outputs": [],
   "source": [
    "-cross_val_score(LinearRegression(), X_train__, y_train, cv=5, scoring='neg_root_mean_squared_error').mean()"
   ]
  },
  {
   "cell_type": "code",
   "execution_count": null,
   "id": "03020664",
   "metadata": {
    "collapsed": false,
    "jupyter": {
     "outputs_hidden": false
    },
    "pycharm": {
     "name": "#%%\n"
    }
   },
   "outputs": [],
   "source": [
    "-cross_val_score(Lasso(), X_train__, y_train, cv=5, scoring='neg_root_mean_squared_error').mean()"
   ]
  },
  {
   "cell_type": "code",
   "execution_count": null,
   "id": "42380538",
   "metadata": {
    "collapsed": false,
    "jupyter": {
     "outputs_hidden": false
    },
    "pycharm": {
     "name": "#%%\n"
    }
   },
   "outputs": [],
   "source": [
    "-cross_val_score(Ridge(), X_train__, y_train, cv=5, scoring='neg_root_mean_squared_error').mean()"
   ]
  },
  {
   "cell_type": "code",
   "execution_count": null,
   "id": "20d836ac",
   "metadata": {
    "collapsed": false,
    "jupyter": {
     "outputs_hidden": false
    },
    "pycharm": {
     "name": "#%%\n"
    }
   },
   "outputs": [],
   "source": [
    "-cross_val_score(DecisionTreeRegressor(), X_train__, y_train, cv=5, scoring='neg_root_mean_squared_error').mean()"
   ]
  },
  {
   "cell_type": "code",
   "execution_count": null,
   "id": "c298f102",
   "metadata": {
    "collapsed": false,
    "jupyter": {
     "outputs_hidden": false
    },
    "pycharm": {
     "name": "#%%\n"
    }
   },
   "outputs": [],
   "source": [
    "-cross_val_score(RandomForestRegressor(), X_train__, y_train, cv=5, scoring='neg_root_mean_squared_error').mean()"
   ]
  },
  {
   "cell_type": "code",
   "execution_count": null,
   "id": "5d0f0db2",
   "metadata": {
    "collapsed": false,
    "jupyter": {
     "outputs_hidden": false
    },
    "pycharm": {
     "name": "#%%\n"
    }
   },
   "outputs": [],
   "source": [
    "-cross_val_score(XGBRegressor(), X_train__, y_train, cv=5, scoring='neg_root_mean_squared_error').mean()"
   ]
  },
  {
   "cell_type": "code",
   "execution_count": null,
   "id": "d9ec46e0",
   "metadata": {
    "collapsed": false,
    "jupyter": {
     "outputs_hidden": false
    },
    "pycharm": {
     "name": "#%%\n"
    }
   },
   "outputs": [],
   "source": [
    "-cross_val_score(LGBMRegressor(), X_train__, y_train, cv=5, scoring='neg_root_mean_squared_error').mean()"
   ]
  },
  {
   "cell_type": "code",
   "execution_count": null,
   "id": "ea830f34",
   "metadata": {
    "collapsed": false,
    "jupyter": {
     "outputs_hidden": false
    },
    "pycharm": {
     "name": "#%%\n"
    }
   },
   "outputs": [],
   "source": []
  },
  {
   "cell_type": "code",
   "execution_count": null,
   "id": "5def1f0d",
   "metadata": {
    "collapsed": false,
    "jupyter": {
     "outputs_hidden": false
    },
    "pycharm": {
     "name": "#%%\n"
    }
   },
   "outputs": [],
   "source": [
    "dtrain = lgb_tuner.Dataset(X_train__, label=y_train)"
   ]
  },
  {
   "cell_type": "code",
   "execution_count": null,
   "id": "e8d5ec34",
   "metadata": {
    "collapsed": false,
    "jupyter": {
     "outputs_hidden": false
    },
    "pycharm": {
     "name": "#%%\n"
    }
   },
   "outputs": [],
   "source": [
    "optuna.logging.set_verbosity(optuna.logging.FATAL)"
   ]
  },
  {
   "cell_type": "code",
   "execution_count": null,
   "id": "2ab84d38",
   "metadata": {
    "collapsed": false,
    "jupyter": {
     "outputs_hidden": false
    },
    "pycharm": {
     "name": "#%%\n"
    }
   },
   "outputs": [],
   "source": [
    "optuna.logging.enable_propagation()"
   ]
  },
  {
   "cell_type": "code",
   "execution_count": null,
   "id": "d49fafa2",
   "metadata": {
    "collapsed": false,
    "jupyter": {
     "outputs_hidden": false
    },
    "pycharm": {
     "name": "#%%\n"
    }
   },
   "outputs": [],
   "source": [
    "optuna.logging.enable_default_handler()"
   ]
  },
  {
   "cell_type": "code",
   "execution_count": null,
   "id": "1efd666c",
   "metadata": {
    "collapsed": false,
    "jupyter": {
     "outputs_hidden": false
    },
    "pycharm": {
     "name": "#%%\n"
    }
   },
   "outputs": [],
   "source": [
    "params = {\n",
    "    \"objective\": \"regression\",\n",
    "    \"metric\": \"mean_squared_error\",\n",
    "    \"verbosity\": 0,\n",
    "    \"boosting_type\": \"gbdt\",\n",
    "}"
   ]
  },
  {
   "cell_type": "code",
   "execution_count": null,
   "id": "4901d121",
   "metadata": {
    "collapsed": false,
    "jupyter": {
     "outputs_hidden": false
    },
    "pycharm": {
     "name": "#%%\n"
    }
   },
   "outputs": [],
   "source": [
    "tuner = lgb_tuner.LightGBMTunerCV(params,\n",
    "                                  dtrain,\n",
    "                                  num_boost_round=1000,\n",
    "                                  folds=KFold(n_splits=5),\n",
    "                                  callbacks=[early_stopping(100),\n",
    "                                             log_evaluation(100)\n",
    "                                             ],\n",
    "                                  )"
   ]
  },
  {
   "cell_type": "code",
   "execution_count": null,
   "id": "c9ab3f42",
   "metadata": {
    "collapsed": false,
    "jupyter": {
     "outputs_hidden": false
    },
    "pycharm": {
     "name": "#%%\n"
    }
   },
   "outputs": [],
   "source": [
    "tuner.run()"
   ]
  },
  {
   "cell_type": "code",
   "execution_count": null,
   "id": "18714591",
   "metadata": {
    "collapsed": false,
    "jupyter": {
     "outputs_hidden": false
    },
    "pycharm": {
     "name": "#%%\n"
    }
   },
   "outputs": [],
   "source": [
    "print(\"Best score:\", tuner.best_score**0.5)\n",
    "best_params = tuner.best_params\n",
    "print(\"Best params:\", best_params)\n",
    "print(\"  Params: \")\n",
    "for key, value in best_params.items():\n",
    "    print(\"    {}: {}\".format(key, value))"
   ]
  },
  {
   "cell_type": "code",
   "execution_count": null,
   "id": "1f9aa7ee",
   "metadata": {
    "collapsed": false,
    "jupyter": {
     "outputs_hidden": false
    },
    "pycharm": {
     "name": "#%%\n"
    }
   },
   "outputs": [],
   "source": [
    "-cross_val_score(LGBMRegressor(**best_params), X_train__, y_train, cv=5, scoring='neg_root_mean_squared_error').mean()"
   ]
  }
 ],
 "metadata": {
  "kernelspec": {
   "display_name": "Python 3 (ipykernel)",
   "language": "python",
   "name": "python3"
  },
  "language_info": {
   "codemirror_mode": {
    "name": "ipython",
    "version": 3
   },
   "file_extension": ".py",
   "mimetype": "text/x-python",
   "name": "python",
   "nbconvert_exporter": "python",
   "pygments_lexer": "ipython3",
   "version": "3.9.7"
  }
 },
 "nbformat": 4,
 "nbformat_minor": 5
}
