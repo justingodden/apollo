{
 "cells": [
  {
   "cell_type": "code",
   "execution_count": null,
   "id": "086bfde0-47c1-42bb-ae6b-7503b20f1fc7",
   "metadata": {},
   "outputs": [],
   "source": [
    "# Route53, S3, ECS, Fargate, RDS, Lambda, API Gateway, SNS, EventBridge, ECR\n",
    "from diagrams import Diagram, Cluster, Edge\n",
    "from diagrams.aws.compute import Fargate, Lambda, ECS, ECR\n",
    "from diagrams.aws.database import RDS, RDSMysqlInstance\n",
    "from diagrams.aws.network import APIGateway, Route53, CloudFront, InternetGateway\n",
    "from diagrams.aws.integration import Eventbridge, SNS\n",
    "from diagrams.aws.storage import S3\n",
    "from diagrams.onprem.container import Docker\n",
    "from diagrams.onprem.ci import GithubActions\n",
    "from diagrams.onprem.iac import Terraform"
   ]
  },
  {
   "cell_type": "code",
   "execution_count": null,
   "id": "51a1e30a-3907-4b39-ba79-dd41d6a94e4e",
   "metadata": {},
   "outputs": [],
   "source": [
    "with Diagram(\"Apollo\", show=False) as diag:\n",
    "    # with Cluster(\"\"):\n",
    "    with Cluster(\"Frontend Application\"):\n",
    "        s3_app = S3(\"React App\\nserved from S3\")\n",
    "        cf = CloudFront(\"CloudFront CDN\")\n",
    "        r53 = Route53(\"Route 53\")\n",
    "        r53 >> cf >> s3_app\n",
    "\n",
    "    with Cluster(\"API\"):\n",
    "        apigw = APIGateway(\"API Gateway\")\n",
    "        lambda_ = Lambda(\"ML model\\nLambda function\")\n",
    "        apigw >> lambda_\n",
    "\n",
    "    with Cluster(\"Web Scraping Data Collection\"):\n",
    "        rds = RDS(\"MySQL RDS db\")\n",
    "        fg_scraper = Fargate(\"Fargate task\")\n",
    "        igw = InternetGateway(\"Internet Gateway\")\n",
    "        igw << fg_scraper >> rds\n",
    "\n",
    "    with Cluster(\"ML Model Training\"):\n",
    "        s3_artifacts = S3(\"ML Model Artifacts\")\n",
    "        fg_modeller = Fargate(\"Fargate task\")\n",
    "        fg_modeller >> s3_artifacts\n",
    "\n",
    "    with Cluster(\"CI/CD\"):\n",
    "        gha = GithubActions(\"GitHub Actions\")\n",
    "        tf = Terraform(\"Terraform\")\n",
    "        docker = Docker(\"Docker\")\n",
    "        ecr = ECR(\"Elastic Container\\nRegistry\")\n",
    "        gha >> tf >> docker >> ecr\n",
    "\n",
    "    eb = Eventbridge(\"EventBridge\\nweekly task\")\n",
    "    sns = SNS(\"SNS topic\")\n",
    "\n",
    "    s3_app >> apigw\n",
    "    fg_modeller << rds\n",
    "    lambda_ << s3_artifacts\n",
    "    eb >> fg_scraper >> sns >> fg_modeller\n",
    "    lambda_ << ecr\n",
    "    fg_scraper << ecr\n",
    "    fg_modeller << ecr\n",
    "    gha >> s3_app\n",
    "    \n",
    "diag"
   ]
  }
 ],
 "metadata": {
  "kernelspec": {
   "display_name": "Python 3 (ipykernel)",
   "language": "python",
   "name": "python3"
  },
  "language_info": {
   "codemirror_mode": {
    "name": "ipython",
    "version": 3
   },
   "file_extension": ".py",
   "mimetype": "text/x-python",
   "name": "python",
   "nbconvert_exporter": "python",
   "pygments_lexer": "ipython3",
   "version": "3.9.7"
  }
 },
 "nbformat": 4,
 "nbformat_minor": 5
}
